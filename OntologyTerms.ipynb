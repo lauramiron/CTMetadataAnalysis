{
 "cells": [
  {
   "cell_type": "markdown",
   "metadata": {},
   "source": [
    "# OntologyTerms.ipynb\n",
    "This notebook processes the results of querying the BioPortal API for for ontology terms matching conditions listed in ClinicalTrials.gov records.\n",
    "\n",
    "The Java code which queries the API (referred to as the TermValidator) is located at https://github.com/lauramiron/metadata-analysis-tools.  Original code for the TermValidator is by Rafael Goncalves.  Slight modifications to input and output file parsing, and for returning all matching terms rather than only 1st page of best matches made by Laura Miron."
   ]
  },
  {
   "cell_type": "code",
   "execution_count": 1,
   "metadata": {},
   "outputs": [],
   "source": [
    "from lxml import etree\n",
    "from io import StringIO\n",
    "import sys, re, os, pdb, pickle\n",
    "import pandas as pd\n",
    "import matplotlib.pyplot as plt\n",
    "import seaborn as sns\n",
    "from textwrap import wrap\n",
    "\n",
    "root_data_dir = '/Users/lauramiron/Large_files/CTData/'\n",
    "xml_dir = root_data_dir+'AllPublicXML/'\n",
    "results_dir = 'results/'\n",
    "val_results_csv = results_dir+'xml_val_results.csv'\n",
    "xml_files = [os.path.join(root, f) for root, dirs, files in os.walk(xml_dir) for f in files if f.split('.')[1]=='xml']\n",
    "NUM_RECORDS = len(xml_files)\n",
    "print_progress=True"
   ]
  },
  {
   "cell_type": "code",
   "execution_count": 2,
   "metadata": {},
   "outputs": [],
   "source": [
    "'''Utility Functions'''\n",
    "# get list of ontology abbreviations in the 2019 version of the UMLS Metathesaurus\n",
    "def _umls_ontos():\n",
    "    lines = []\n",
    "    with open('umls_ontos.txt') as f:\n",
    "        lines = [l.strip() for l in f.readlines()]\n",
    "    return lines\n",
    "\n",
    "# Parse normalized abbreviation for source ontology from URI\n",
    "# Deal with multiple styles of encoding term id and ontology in URI\n",
    "def _row_to_ontology(row):\n",
    "    url = row['url']\n",
    "    if pd.isnull(url): return None\n",
    "    url = url.strip()\n",
    "    \n",
    "    # e.g., http://purl.bioontology.org/ontology/MEDDRA/10012401\n",
    "    if url.startswith('http://purl.bioontology.org/ontology'):\n",
    "        return _normalize_abbrev(url.split('/')[-2])\n",
    "    \n",
    "    # e.g., http://ncicb.nci.nih.gov/xml/owl/EVS/Thesaurus.owl#C34918\n",
    "    if url.startswith('http://ncicb.nci.nih.gov/xml/owl/EVS/Thesaurus.owl'):\n",
    "        end = url.split('#')[-1]\n",
    "        if re.match('^C\\d*$',end) != None:\n",
    "            return 'NCIT'\n",
    "\n",
    "    last = url.split('/')[-1]\n",
    "    if url.startswith('http://purl.obolibrary.org/obo'):\n",
    "        # e.g., http://purl.obolibrary.org/obo/DDO.owl#DDO_0003036\n",
    "        if ('_' in last) and ('#' in last):\n",
    "            return _normalize_abbrev(last.split('#')[-1].split('_')[0])\n",
    "        \n",
    "        # e.g., http://purl.obolibrary.org/obo/ODGI.owl#Healthy\n",
    "        if '#' in last:\n",
    "            return _normalize_abbrev(last.split('#')[0].split('.')[0])    \n",
    "        \n",
    "        # e.g., http://purl.obolibrary.org/obo/CCTO_000225\n",
    "        if ('_' in last):\n",
    "            return _normalize_abbrev(last.split('_')[0])\n",
    "\n",
    "    # e.g., http://www.ebi.ac.uk/efo/EFO_0003761\n",
    "    if ('_' in last) and ('#' not in last):\n",
    "        return _normalize_abbrev(last.split('_')[0])\n",
    "\n",
    "    # e.g., http://purl.jp/bio/4/id/200906022166120721\n",
    "    if 'purl.jp/bio/4' in url:\n",
    "        return 'IOBC'\n",
    "    \n",
    "    # e.g., http://localhost/plosthes.2017-1#8591\n",
    "    if 'plosthes' in url:\n",
    "        return 'PLOSTHES'\n",
    "    return False # non-null match that could not be parsed\n",
    "\n",
    "\n",
    "# normalize mulitple abbreviations for the same ontology\n",
    "# choice of 'correct' abbreviation is arbitrary\n",
    "def _normalize_abbrev(onto):\n",
    "    if onto == 'MESH':\n",
    "        return 'MSH'\n",
    "    if onto == 'LOINC':\n",
    "        return 'LNC'\n",
    "    if onto == 'MEDDRA':\n",
    "        return 'MDR'\n",
    "    return onto"
   ]
  },
  {
   "cell_type": "markdown",
   "metadata": {},
   "source": [
    "### Number of conditions matching a term in each UMLS ontology\n",
    "TermValidator takes as input condition.csv, a list of all conditions from CT.gov records, and outputs `condition_matches.csv`.  The following code performs analyses on `condition_matches.csv`."
   ]
  },
  {
   "cell_type": "code",
   "execution_count": 49,
   "metadata": {},
   "outputs": [
    {
     "name": "stdout",
     "output_type": "stream",
     "text": [
      "Num conditions: 497124\n"
     ]
    }
   ],
   "source": [
    "df = pd.read_pickle('data/condition_matches.p') # pickled version of condition_matches.csv\n",
    "df['ontology'] = df.apply(lambda row: _row_to_ontology(row),axis=1)\n",
    "\n",
    "num_conditions = df.iloc[-1]['fid']\n",
    "print(f\"Num conditions: {num_conditions}\")"
   ]
  },
  {
   "cell_type": "code",
   "execution_count": 51,
   "metadata": {},
   "outputs": [
    {
     "data": {
      "text/html": [
       "<style  type=\"text/css\" >\n",
       "</style><table id=\"T_67f8c748_d2cb_11ea_a088_acde48001122\" ><thead>    <tr>        <th class=\"blank level0\" ></th>        <th class=\"col_heading level0 col0\" >Count</th>        <th class=\"col_heading level0 col1\" >Pct</th>    </tr></thead><tbody>\n",
       "                <tr>\n",
       "                        <th id=\"T_67f8c748_d2cb_11ea_a088_acde48001122level0_row0\" class=\"row_heading level0 row0\" >MSH</th>\n",
       "                        <td id=\"T_67f8c748_d2cb_11ea_a088_acde48001122row0_col0\" class=\"data row0 col0\" >306197</td>\n",
       "                        <td id=\"T_67f8c748_d2cb_11ea_a088_acde48001122row0_col1\" class=\"data row0 col1\" >61.59%</td>\n",
       "            </tr>\n",
       "            <tr>\n",
       "                        <th id=\"T_67f8c748_d2cb_11ea_a088_acde48001122level0_row1\" class=\"row_heading level0 row1\" >MDR</th>\n",
       "                        <td id=\"T_67f8c748_d2cb_11ea_a088_acde48001122row1_col0\" class=\"data row1 col0\" >230639</td>\n",
       "                        <td id=\"T_67f8c748_d2cb_11ea_a088_acde48001122row1_col1\" class=\"data row1 col1\" >46.39%</td>\n",
       "            </tr>\n",
       "            <tr>\n",
       "                        <th id=\"T_67f8c748_d2cb_11ea_a088_acde48001122level0_row2\" class=\"row_heading level0 row2\" >SNOMEDCT</th>\n",
       "                        <td id=\"T_67f8c748_d2cb_11ea_a088_acde48001122row2_col0\" class=\"data row2 col0\" >224008</td>\n",
       "                        <td id=\"T_67f8c748_d2cb_11ea_a088_acde48001122row2_col1\" class=\"data row2 col1\" >45.06%</td>\n",
       "            </tr>\n",
       "            <tr>\n",
       "                        <th id=\"T_67f8c748_d2cb_11ea_a088_acde48001122level0_row3\" class=\"row_heading level0 row3\" >CSP</th>\n",
       "                        <td id=\"T_67f8c748_d2cb_11ea_a088_acde48001122row3_col0\" class=\"data row3 col0\" >169631</td>\n",
       "                        <td id=\"T_67f8c748_d2cb_11ea_a088_acde48001122row3_col1\" class=\"data row3 col1\" >34.12%</td>\n",
       "            </tr>\n",
       "            <tr>\n",
       "                        <th id=\"T_67f8c748_d2cb_11ea_a088_acde48001122level0_row4\" class=\"row_heading level0 row4\" >NDFRT</th>\n",
       "                        <td id=\"T_67f8c748_d2cb_11ea_a088_acde48001122row4_col0\" class=\"data row4 col0\" >167666</td>\n",
       "                        <td id=\"T_67f8c748_d2cb_11ea_a088_acde48001122row4_col1\" class=\"data row4 col1\" >33.73%</td>\n",
       "            </tr>\n",
       "            <tr>\n",
       "                        <th id=\"T_67f8c748_d2cb_11ea_a088_acde48001122level0_row5\" class=\"row_heading level0 row5\" >OMIM</th>\n",
       "                        <td id=\"T_67f8c748_d2cb_11ea_a088_acde48001122row5_col0\" class=\"data row5 col0\" >152262</td>\n",
       "                        <td id=\"T_67f8c748_d2cb_11ea_a088_acde48001122row5_col1\" class=\"data row5 col1\" >30.63%</td>\n",
       "            </tr>\n",
       "            <tr>\n",
       "                        <th id=\"T_67f8c748_d2cb_11ea_a088_acde48001122level0_row6\" class=\"row_heading level0 row6\" >MEDLINEPLUS</th>\n",
       "                        <td id=\"T_67f8c748_d2cb_11ea_a088_acde48001122row6_col0\" class=\"data row6 col0\" >151878</td>\n",
       "                        <td id=\"T_67f8c748_d2cb_11ea_a088_acde48001122row6_col1\" class=\"data row6 col1\" >30.55%</td>\n",
       "            </tr>\n",
       "            <tr>\n",
       "                        <th id=\"T_67f8c748_d2cb_11ea_a088_acde48001122level0_row7\" class=\"row_heading level0 row7\" >RCD</th>\n",
       "                        <td id=\"T_67f8c748_d2cb_11ea_a088_acde48001122row7_col0\" class=\"data row7 col0\" >150787</td>\n",
       "                        <td id=\"T_67f8c748_d2cb_11ea_a088_acde48001122row7_col1\" class=\"data row7 col1\" >30.33%</td>\n",
       "            </tr>\n",
       "            <tr>\n",
       "                        <th id=\"T_67f8c748_d2cb_11ea_a088_acde48001122level0_row8\" class=\"row_heading level0 row8\" >LNC</th>\n",
       "                        <td id=\"T_67f8c748_d2cb_11ea_a088_acde48001122row8_col0\" class=\"data row8 col0\" >132719</td>\n",
       "                        <td id=\"T_67f8c748_d2cb_11ea_a088_acde48001122row8_col1\" class=\"data row8 col1\" >26.70%</td>\n",
       "            </tr>\n",
       "            <tr>\n",
       "                        <th id=\"T_67f8c748_d2cb_11ea_a088_acde48001122level0_row9\" class=\"row_heading level0 row9\" >ICPC2P</th>\n",
       "                        <td id=\"T_67f8c748_d2cb_11ea_a088_acde48001122row9_col0\" class=\"data row9 col0\" >105572</td>\n",
       "                        <td id=\"T_67f8c748_d2cb_11ea_a088_acde48001122row9_col1\" class=\"data row9 col1\" >21.24%</td>\n",
       "            </tr>\n",
       "            <tr>\n",
       "                        <th id=\"T_67f8c748_d2cb_11ea_a088_acde48001122level0_row10\" class=\"row_heading level0 row10\" >PDQ</th>\n",
       "                        <td id=\"T_67f8c748_d2cb_11ea_a088_acde48001122row10_col0\" class=\"data row10 col0\" >88461</td>\n",
       "                        <td id=\"T_67f8c748_d2cb_11ea_a088_acde48001122row10_col1\" class=\"data row10 col1\" >17.79%</td>\n",
       "            </tr>\n",
       "            <tr>\n",
       "                        <th id=\"T_67f8c748_d2cb_11ea_a088_acde48001122level0_row11\" class=\"row_heading level0 row11\" >CST</th>\n",
       "                        <td id=\"T_67f8c748_d2cb_11ea_a088_acde48001122row11_col0\" class=\"data row11 col0\" >84437</td>\n",
       "                        <td id=\"T_67f8c748_d2cb_11ea_a088_acde48001122row11_col1\" class=\"data row11 col1\" >16.99%</td>\n",
       "            </tr>\n",
       "            <tr>\n",
       "                        <th id=\"T_67f8c748_d2cb_11ea_a088_acde48001122level0_row12\" class=\"row_heading level0 row12\" >WHO</th>\n",
       "                        <td id=\"T_67f8c748_d2cb_11ea_a088_acde48001122row12_col0\" class=\"data row12 col0\" >63543</td>\n",
       "                        <td id=\"T_67f8c748_d2cb_11ea_a088_acde48001122row12_col1\" class=\"data row12 col1\" >12.78%</td>\n",
       "            </tr>\n",
       "            <tr>\n",
       "                        <th id=\"T_67f8c748_d2cb_11ea_a088_acde48001122level0_row13\" class=\"row_heading level0 row13\" >ICD10CM</th>\n",
       "                        <td id=\"T_67f8c748_d2cb_11ea_a088_acde48001122row13_col0\" class=\"data row13 col0\" >62403</td>\n",
       "                        <td id=\"T_67f8c748_d2cb_11ea_a088_acde48001122row13_col1\" class=\"data row13 col1\" >12.55%</td>\n",
       "            </tr>\n",
       "            <tr>\n",
       "                        <th id=\"T_67f8c748_d2cb_11ea_a088_acde48001122level0_row14\" class=\"row_heading level0 row14\" >SNMI</th>\n",
       "                        <td id=\"T_67f8c748_d2cb_11ea_a088_acde48001122row14_col0\" class=\"data row14 col0\" >58361</td>\n",
       "                        <td id=\"T_67f8c748_d2cb_11ea_a088_acde48001122row14_col1\" class=\"data row14 col1\" >11.74%</td>\n",
       "            </tr>\n",
       "            <tr>\n",
       "                        <th id=\"T_67f8c748_d2cb_11ea_a088_acde48001122level0_row15\" class=\"row_heading level0 row15\" >ICD9CM</th>\n",
       "                        <td id=\"T_67f8c748_d2cb_11ea_a088_acde48001122row15_col0\" class=\"data row15 col0\" >56152</td>\n",
       "                        <td id=\"T_67f8c748_d2cb_11ea_a088_acde48001122row15_col1\" class=\"data row15 col1\" >11.30%</td>\n",
       "            </tr>\n",
       "            <tr>\n",
       "                        <th id=\"T_67f8c748_d2cb_11ea_a088_acde48001122level0_row16\" class=\"row_heading level0 row16\" >ICD10</th>\n",
       "                        <td id=\"T_67f8c748_d2cb_11ea_a088_acde48001122row16_col0\" class=\"data row16 col0\" >47041</td>\n",
       "                        <td id=\"T_67f8c748_d2cb_11ea_a088_acde48001122row16_col1\" class=\"data row16 col1\" >9.46%</td>\n",
       "            </tr>\n",
       "            <tr>\n",
       "                        <th id=\"T_67f8c748_d2cb_11ea_a088_acde48001122level0_row17\" class=\"row_heading level0 row17\" >AIR</th>\n",
       "                        <td id=\"T_67f8c748_d2cb_11ea_a088_acde48001122row17_col0\" class=\"data row17 col0\" >13177</td>\n",
       "                        <td id=\"T_67f8c748_d2cb_11ea_a088_acde48001122row17_col1\" class=\"data row17 col1\" >2.65%</td>\n",
       "            </tr>\n",
       "            <tr>\n",
       "                        <th id=\"T_67f8c748_d2cb_11ea_a088_acde48001122level0_row18\" class=\"row_heading level0 row18\" >ICPC</th>\n",
       "                        <td id=\"T_67f8c748_d2cb_11ea_a088_acde48001122row18_col0\" class=\"data row18 col0\" >6831</td>\n",
       "                        <td id=\"T_67f8c748_d2cb_11ea_a088_acde48001122row18_col1\" class=\"data row18 col1\" >1.37%</td>\n",
       "            </tr>\n",
       "            <tr>\n",
       "                        <th id=\"T_67f8c748_d2cb_11ea_a088_acde48001122level0_row19\" class=\"row_heading level0 row19\" >GO</th>\n",
       "                        <td id=\"T_67f8c748_d2cb_11ea_a088_acde48001122row19_col0\" class=\"data row19 col0\" >4501</td>\n",
       "                        <td id=\"T_67f8c748_d2cb_11ea_a088_acde48001122row19_col1\" class=\"data row19 col1\" >0.91%</td>\n",
       "            </tr>\n",
       "            <tr>\n",
       "                        <th id=\"T_67f8c748_d2cb_11ea_a088_acde48001122level0_row20\" class=\"row_heading level0 row20\" >MTHMST</th>\n",
       "                        <td id=\"T_67f8c748_d2cb_11ea_a088_acde48001122row20_col0\" class=\"data row20 col0\" >3075</td>\n",
       "                        <td id=\"T_67f8c748_d2cb_11ea_a088_acde48001122row20_col1\" class=\"data row20 col1\" >0.62%</td>\n",
       "            </tr>\n",
       "            <tr>\n",
       "                        <th id=\"T_67f8c748_d2cb_11ea_a088_acde48001122level0_row21\" class=\"row_heading level0 row21\" >CPT</th>\n",
       "                        <td id=\"T_67f8c748_d2cb_11ea_a088_acde48001122row21_col0\" class=\"data row21 col0\" >2265</td>\n",
       "                        <td id=\"T_67f8c748_d2cb_11ea_a088_acde48001122row21_col1\" class=\"data row21 col1\" >0.46%</td>\n",
       "            </tr>\n",
       "            <tr>\n",
       "                        <th id=\"T_67f8c748_d2cb_11ea_a088_acde48001122level0_row22\" class=\"row_heading level0 row22\" >RXNORM</th>\n",
       "                        <td id=\"T_67f8c748_d2cb_11ea_a088_acde48001122row22_col0\" class=\"data row22 col0\" >1344</td>\n",
       "                        <td id=\"T_67f8c748_d2cb_11ea_a088_acde48001122row22_col1\" class=\"data row22 col1\" >0.27%</td>\n",
       "            </tr>\n",
       "            <tr>\n",
       "                        <th id=\"T_67f8c748_d2cb_11ea_a088_acde48001122level0_row23\" class=\"row_heading level0 row23\" >NDDF</th>\n",
       "                        <td id=\"T_67f8c748_d2cb_11ea_a088_acde48001122row23_col0\" class=\"data row23 col0\" >1037</td>\n",
       "                        <td id=\"T_67f8c748_d2cb_11ea_a088_acde48001122row23_col1\" class=\"data row23 col1\" >0.21%</td>\n",
       "            </tr>\n",
       "            <tr>\n",
       "                        <th id=\"T_67f8c748_d2cb_11ea_a088_acde48001122level0_row24\" class=\"row_heading level0 row24\" >FMA</th>\n",
       "                        <td id=\"T_67f8c748_d2cb_11ea_a088_acde48001122row24_col0\" class=\"data row24 col0\" >193</td>\n",
       "                        <td id=\"T_67f8c748_d2cb_11ea_a088_acde48001122row24_col1\" class=\"data row24 col1\" >0.04%</td>\n",
       "            </tr>\n",
       "            <tr>\n",
       "                        <th id=\"T_67f8c748_d2cb_11ea_a088_acde48001122level0_row25\" class=\"row_heading level0 row25\" >HCPCS</th>\n",
       "                        <td id=\"T_67f8c748_d2cb_11ea_a088_acde48001122row25_col0\" class=\"data row25 col0\" >192</td>\n",
       "                        <td id=\"T_67f8c748_d2cb_11ea_a088_acde48001122row25_col1\" class=\"data row25 col1\" >0.04%</td>\n",
       "            </tr>\n",
       "            <tr>\n",
       "                        <th id=\"T_67f8c748_d2cb_11ea_a088_acde48001122level0_row26\" class=\"row_heading level0 row26\" >ICD10PCS</th>\n",
       "                        <td id=\"T_67f8c748_d2cb_11ea_a088_acde48001122row26_col0\" class=\"data row26 col0\" >145</td>\n",
       "                        <td id=\"T_67f8c748_d2cb_11ea_a088_acde48001122row26_col1\" class=\"data row26 col1\" >0.03%</td>\n",
       "            </tr>\n",
       "            <tr>\n",
       "                        <th id=\"T_67f8c748_d2cb_11ea_a088_acde48001122level0_row27\" class=\"row_heading level0 row27\" >CVX</th>\n",
       "                        <td id=\"T_67f8c748_d2cb_11ea_a088_acde48001122row27_col0\" class=\"data row27 col0\" >2</td>\n",
       "                        <td id=\"T_67f8c748_d2cb_11ea_a088_acde48001122row27_col1\" class=\"data row27 col1\" >0.00%</td>\n",
       "            </tr>\n",
       "    </tbody></table>"
      ],
      "text/plain": [
       "<pandas.io.formats.style.Styler at 0x7faef8d91590>"
      ]
     },
     "metadata": {},
     "output_type": "display_data"
    },
    {
     "name": "stdout",
     "output_type": "stream",
     "text": [
      "Num conditions matched to any UMLS ontology: 402875, 81.04%\n"
     ]
    }
   ],
   "source": [
    "# read list of ontologies included in 2019 UMLS metathesaurus\n",
    "umls_ontos = _umls_ontos()\n",
    "\n",
    "# filter full condition matches dataframe to only rows with a match to a term from a UMLS ontology\n",
    "df_umls = df[(~df['ontology'].isnull()) & (df['ontology'].isin(umls_ontos))]\n",
    "\n",
    "# Some ontologies in BioPortal import terms from other ontologies, which BioPortal returns as separate matches\n",
    "# get rid of these duplicates\n",
    "df_umls = df_umls.drop_duplicates(subset=['fid','ontology'])\n",
    "df_umls_counts = df_umls['ontology'].value_counts().rename('Count')\n",
    "df_umls_pct = (df_umls_counts / float(num_conditions)).rename('Pct')\n",
    "\n",
    "print(f\"Numbers of conditions with matches in each UMLS ontology\")\n",
    "df_umls_combined = pd.concat([df_umls_counts,df_umls_pct],axis=1)\n",
    "display(df_umls_combined.style.format({\n",
    "    'Pct': '{:,.2%}'.format\n",
    "}))\n",
    "\n",
    "num_matched_any = df_umls.loc[df_umls['ontology'].notnull()]['fid'].nunique()\n",
    "print(f\"Num conditions matched to any UMLS ontology: {num_matched_any}, {float(num_matched_any)/num_conditions:.2%}\")"
   ]
  },
  {
   "cell_type": "markdown",
   "metadata": {},
   "source": [
    "### How many conditions are in MeSH?"
   ]
  },
  {
   "cell_type": "code",
   "execution_count": 16,
   "metadata": {},
   "outputs": [
    {
     "name": "stdout",
     "output_type": "stream",
     "text": [
      "Of 190927 conditions with no match in MeSH, 96678 (50.64%) have exact matches in other UMLS ontologies\n",
      "Conditions matched to some umls: 402875/497124, 81.04%\n"
     ]
    }
   ],
   "source": [
    "mesh_cids = df_umls.loc[df_umls['ontology']=='MSH']['fid']\n",
    "num_mesh_matched = mesh_cids.nunique()\n",
    "num_mesh_unmatched = num_conditions - num_mesh_matched\n",
    "\n",
    "df_mesh_unmatched = df_umls.loc[~df_umls['fid'].isin(mesh_cids)]\n",
    "num_matched_other = df_mesh_unmatched['fid'].nunique()\n",
    "\n",
    "print(f\"Of {num_mesh_unmatched} conditions with no match in MeSH, {num_matched_other} ({float(num_matched_other)/num_mesh_unmatched:.2%}) have exact matches in other UMLS ontologies\")\n",
    "\n",
    "num_matched = df_umls['fid'].nunique()\n",
    "print(f'Conditions matched to some umls: {num_matched}/{num_conditions}, {float(num_matched/num_conditions):.2%}')"
   ]
  },
  {
   "cell_type": "markdown",
   "metadata": {},
   "source": [
    "#### Reproduce Figure 3"
   ]
  },
  {
   "cell_type": "code",
   "execution_count": 15,
   "metadata": {},
   "outputs": [
    {
     "name": "stdout",
     "output_type": "stream",
     "text": [
      "Conditions matched to some umls: 402875/497124, 81.04%\n"
     ]
    },
    {
     "data": {
      "image/png": "[encoded data removed]",
      "text/plain": [
       "<Figure size 432x288 with 1 Axes>"
      ]
     },
     "metadata": {
      "needs_background": "light"
     },
     "output_type": "display_data"
    }
   ],
   "source": [
    "onto_counts = df_umls['ontology'].value_counts() / num_conditions\n",
    "ax = onto_counts.plot.bar(color='salmon')\n",
    "\n",
    "vals = ax.get_yticks()\n",
    "ax.set_yticklabels(['{:,.0%}'.format(x) for x in vals])\n",
    "\n",
    "plt.title('Coverage of \\'Condition\\' Values for Twenty-Nine UMLS Ontologies')\n",
    "plt.ylabel('Pct values with an exact match in ontology')\n",
    "plt.xlabel('Ontology (Acronym)')\n",
    "plt.savefig(\"results/figure3.eps\",format='eps',bbox_inches = \"tight\")"
   ]
  },
  {
   "cell_type": "markdown",
   "metadata": {},
   "source": [
    "### Intervention"
   ]
  },
  {
   "cell_type": "code",
   "execution_count": 32,
   "metadata": {},
   "outputs": [
    {
     "name": "stdout",
     "output_type": "stream",
     "text": [
      "Found 557436 interventioned in CT.gov records\n",
      "Found ontology matches for 256463 (46.01%) of intervention terms\n"
     ]
    }
   ],
   "source": [
    "df = pd.read_csv('data/intervention_matches.csv',sep='\\t',header=None,index_col=False,names=['iid','intervention','url','match_term','cuis','tuis'])\n",
    "\n",
    "num_interventions = df.iloc[-1]['iid']\n",
    "print(f'Found {num_interventions} interventioned in CT.gov records')\n",
    "\n",
    "num_matched = df[(~df['url'].isnull())]['iid'].nunique()\n",
    "print(f'Found ontology matches for {num_matched} ({float(num_matched)/num_interventions:.2%}) of intervention terms')"
   ]
  },
  {
   "cell_type": "code",
   "execution_count": 46,
   "metadata": {},
   "outputs": [
    {
     "name": "stdout",
     "output_type": "stream",
     "text": [
      "intervention_type\n",
      "Behavioral             0.249853\n",
      "Biological             0.436618\n",
      "Combination Product    0.162592\n",
      "Device                 0.185469\n",
      "Diagnostic Test        0.309598\n",
      "Dietary Supplement     0.442313\n",
      "Drug                   0.635356\n",
      "Genetic                0.665074\n",
      "Other                  0.396097\n",
      "Procedure              0.413808\n",
      "Radiation              0.613974\n",
      "dtype: float64\n"
     ]
    }
   ],
   "source": [
    "df_uniq = df.drop_duplicates(subset=['iid'])\n",
    "df_uniq = df_uniq.set_index(['iid'],drop=True)\n",
    "df_uniq['no_match'] = df_uniq[['url']].applymap(lambda x: (pd.isnull(x)))\n",
    "group_results = df_uniq.groupby(['intervention_type'])['no_match'].sum()\n",
    "group_results = 1-(group_results / df_uniq.groupby(['intervention_type'])['intervention'].count())\n",
    "print(group_results)"
   ]
  },
  {
   "cell_type": "markdown",
   "metadata": {},
   "source": [
    "#### Reproduce Figure 4"
   ]
  },
  {
   "cell_type": "code",
   "execution_count": 47,
   "metadata": {},
   "outputs": [
    {
     "data": {
      "image/png": "[encoded data removed]",
      "text/plain": [
       "<Figure size 432x288 with 1 Axes>"
      ]
     },
     "metadata": {
      "needs_background": "light"
     },
     "output_type": "display_data"
    }
   ],
   "source": [
    "ax = group_results.plot.bar(color='mediumseagreen')\n",
    "vals = ax.get_yticks()\n",
    "ax.set_yticklabels(['{:,.0%}'.format(x) for x in vals])\n",
    "\n",
    "plt.xlabel('Intervention Type')\n",
    "plt.title(\"\\n\".join(wrap('Percentage of \\'Intervention\\' Values that Use an Ontology Term, Grouped by Intervention Type',width=60)))\n",
    "plt.savefig(\"results/figure4.eps\",format='eps',bbox_inches = \"tight\")"
   ]
  }
 ],
 "metadata": {
  "kernelspec": {
   "display_name": "Python 3",
   "language": "python",
   "name": "python3"
  },
  "language_info": {
   "codemirror_mode": {
    "name": "ipython",
    "version": 3
   },
   "file_extension": ".py",
   "mimetype": "text/x-python",
   "name": "python",
   "nbconvert_exporter": "python",
   "pygments_lexer": "ipython3",
   "version": "3.7.7"
  }
 },
 "nbformat": 4,
 "nbformat_minor": 4
}
