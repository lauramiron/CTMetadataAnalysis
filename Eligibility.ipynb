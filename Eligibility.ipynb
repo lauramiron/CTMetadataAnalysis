{
 "cells": [
  {
   "cell_type": "code",
   "execution_count": 1,
   "metadata": {},
   "outputs": [],
   "source": [
    "from lxml import etree\n",
    "from io import StringIO\n",
    "from lxml import etree\n",
    "from io import StringIO\n",
    "import sys, re, os, pdb, pickle\n",
    "import pandas as pd\n",
    "\n",
    "root_data_dir = '/Users/lauramiron/Large_files/CTData/'\n",
    "xml_dir = root_data_dir+'AllPublicXML/'\n",
    "results_dir = 'results/'\n",
    "val_results_csv = results_dir+'xml_val_results.csv'\n",
    "\n",
    "xml_files = [os.path.join(root, f) for root, dirs, files in os.walk(xml_dir) for f in files if f.split('.')[1]=='xml']\n",
    "NUM_RECORDS = len(xml_files)\n",
    "print_progress=True"
   ]
  },
  {
   "cell_type": "code",
   "execution_count": 2,
   "metadata": {},
   "outputs": [],
   "source": [
    "def load_xml(filename_xml):\n",
    "    with open(filename_xml, 'r') as xml_file:\n",
    "        xml_to_check = xml_file.read()\n",
    "    try:\n",
    "        doc = etree.parse(StringIO(xml_to_check))\n",
    "        return doc\n",
    "    except IOError:\n",
    "        return None\n",
    "    except etree.XMLSyntaxError as err:\n",
    "        return None"
   ]
  },
  {
   "cell_type": "code",
   "execution_count": 9,
   "metadata": {},
   "outputs": [
    {
     "name": "stdout",
     "output_type": "stream",
     "text": [
      "0/302091\n",
      "10000/302091\n",
      "20000/302091\n",
      "30000/302091\n",
      "40000/302091\n",
      "50000/302091\n",
      "60000/302091\n",
      "70000/302091\n",
      "80000/302091\n",
      "90000/302091\n",
      "100000/302091\n",
      "110000/302091\n",
      "120000/302091\n",
      "130000/302091\n",
      "140000/302091\n",
      "150000/302091\n",
      "160000/302091\n",
      "170000/302091\n",
      "180000/302091\n",
      "190000/302091\n",
      "200000/302091\n",
      "210000/302091\n",
      "220000/302091\n",
      "230000/302091\n",
      "240000/302091\n",
      "250000/302091\n",
      "260000/302091\n",
      "270000/302091\n",
      "280000/302091\n",
      "290000/302091\n",
      "300000/302091\n",
      "Records with correctly formatted eligibility criteria: 183312, 60.68%\n",
      "Records missing eligibility criteria: 874, 0.29%\n",
      "Records with correct EC headers but criteria are a bulleted list: 73779, 0.24422773270305967\n",
      "Records with EC with missing or malformed headers: 44126, 14.61%\n"
     ]
    }
   ],
   "source": [
    "newline_pattern = r'([^\\n])[\\t ]*\\n[\\t ]*([^\\n])'\n",
    "character_class = '[\\u0000-\\u2BFF]'\n",
    "loose_pattern = '^Inclusion Criteria:\\s*'+'('+character_class+'+)'+'Exclusion Criteria:\\s*'+'('+character_class+'*)$'\n",
    "bullets_pattern = r'(?: {10}- {2}[\\u0000-\\u2BFF]*\\n{2})*(?: {10}- {2}[\\u0000-\\u2BFF]*)'\n",
    "strict_pattern = '^Inclusion Criteria:\\s*'+'('+bullets_pattern+'+)'+'Exclusion Criteria:\\s*'+'('+bullets_pattern+'*)$'\n",
    "pattern = r'^\\s*Inclusion Criteria:\\s*(( *-[^\\n]*)\\n\\n)*( *-[^\\n]*)\\s*Exclusion Criteria:\\s*(( *-[^\\n]*)\\n\\n)*( *-[^\\n]*)\\s*$'\n",
    "\n",
    "\n",
    "num_missing = 0\n",
    "num_good = 0\n",
    "num_no_bullets = 0\n",
    "num_bad_headers = 0\n",
    "for count, xmlf in enumerate(xml_files):\n",
    "    if count%10000 == 0: print(f'{count}/{len(xml_files)}')\n",
    "    xml_doc = load_xml(xmlf)\n",
    "    try:\n",
    "        elig_elem = xml_doc.find('eligibility').find('criteria').find('textblock')\n",
    "    except:\n",
    "        num_missing += 1\n",
    "        continue\n",
    "    if elig_elem == None:\n",
    "        num_missing += 1\n",
    "        continue\n",
    "    etext = re.sub(newline_pattern,r'\\1 \\2',elig_elem.text).strip()\n",
    "    matches = re.search(pattern,etext)\n",
    "    if matches != None:\n",
    "        num_good += 1\n",
    "        continue\n",
    "    matches = re.search(loose_pattern, etext)\n",
    "    if matches != None:\n",
    "        num_no_bullets += 1\n",
    "        continue\n",
    "    num_bad_headers += 1\n",
    "    \n",
    "    \n",
    "print(f'Records with correctly formatted eligibility criteria: {num_good}, {float(num_good)/len(xml_files):.2%}')\n",
    "print(f'Records missing eligibility criteria: {num_missing}, {float(num_missing)/len(xml_files):.2%}')\n",
    "print(f'Records with correct EC headers but criteria are a bulleted list: {num_no_bullets}, {float(num_no_bullets)/len(xml_files):.2%}')\n",
    "print(f'Records with EC with missing or malformed headers: {num_bad_headers}, {float(num_bad_headers)/len(xml_files):.2%}')"
   ]
  }
 ],
 "metadata": {
  "kernelspec": {
   "display_name": "Python 3",
   "language": "python",
   "name": "python3"
  },
  "language_info": {
   "codemirror_mode": {
    "name": "ipython",
    "version": 3
   },
   "file_extension": ".py",
   "mimetype": "text/x-python",
   "name": "python",
   "nbconvert_exporter": "python",
   "pygments_lexer": "ipython3",
   "version": "3.7.7"
  }
 },
 "nbformat": 4,
 "nbformat_minor": 2
}
